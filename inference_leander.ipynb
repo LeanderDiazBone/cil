{
 "cells": [
  {
   "cell_type": "code",
   "execution_count": 1,
   "id": "22b15676",
   "metadata": {},
   "outputs": [],
   "source": [
    "import gemma"
   ]
  },
  {
   "cell_type": "code",
   "execution_count": null,
   "id": "ff9617e4",
   "metadata": {},
   "outputs": [],
   "source": []
  }
 ],
 "metadata": {
  "kernelspec": {
   "display_name": "cil",
   "language": "python",
   "name": "python3"
  },
  "language_info": {
   "codemirror_mode": {
    "name": "ipython",
    "version": 3
   },
   "file_extension": ".py",
   "mimetype": "text/x-python",
   "name": "python",
   "nbconvert_exporter": "python",
   "pygments_lexer": "ipython3",
   "version": "3.13.2"
  }
 },
 "nbformat": 4,
 "nbformat_minor": 5
}
