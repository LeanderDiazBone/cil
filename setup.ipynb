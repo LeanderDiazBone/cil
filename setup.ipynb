{
 "cells": [
  {
   "cell_type": "code",
   "execution_count": 16,
   "id": "6cb50844",
   "metadata": {},
   "outputs": [
    {
     "name": "stderr",
     "output_type": "stream",
     "text": [
      "/Users/ldiazbone/miniconda3/envs/cil/lib/python3.13/site-packages/tqdm/auto.py:21: TqdmWarning: IProgress not found. Please update jupyter and ipywidgets. See https://ipywidgets.readthedocs.io/en/stable/user_install.html\n",
      "  from .autonotebook import tqdm as notebook_tqdm\n",
      "/Users/ldiazbone/miniconda3/envs/cil/lib/python3.13/site-packages/transformers/models/auto/auto_factory.py:476: FutureWarning: The `use_auth_token` argument is deprecated and will be removed in v5 of Transformers. Please use `token` instead.\n",
      "  warnings.warn(\n",
      "Loading checkpoint shards: 100%|██████████| 2/2 [00:14<00:00,  7.01s/it]\n",
      "/Users/ldiazbone/miniconda3/envs/cil/lib/python3.13/site-packages/transformers/models/auto/tokenization_auto.py:898: FutureWarning: The `use_auth_token` argument is deprecated and will be removed in v5 of Transformers. Please use `token` instead.\n",
      "  warnings.warn(\n"
     ]
    }
   ],
   "source": [
    "from transformers import AutoTokenizer, AutoModelForCausalLM\n",
    "\n",
    "model = AutoModelForCausalLM.from_pretrained(\"google/gemma-2b\", use_auth_token=True)\n",
    "tokenizer = AutoTokenizer.from_pretrained(\"google/gemma-2b\", use_auth_token=True)"
   ]
  },
  {
   "cell_type": "code",
   "execution_count": 2,
   "id": "eba4f431",
   "metadata": {},
   "outputs": [],
   "source": [
    "from gemma import gm"
   ]
  },
  {
   "cell_type": "code",
   "execution_count": 4,
   "id": "bbbb5a78",
   "metadata": {},
   "outputs": [
    {
     "name": "stdout",
     "output_type": "stream",
     "text": [
      "<bos>Write me a poem about Machine Learning. This poem should be about your love to the theory of Machine Learning.\n",
      "\n",
      "Answer:\n",
      "\n",
      "Step 1/2\n",
      "Machine Learning is a fascinating topic that has revolutionized\n"
     ]
    }
   ],
   "source": [
    "input_text = \"Write me a poem about Machine Learning. This poem should be about your love to the theory of Machine Learning.\"\n",
    "input_ids = tokenizer(input_text, return_tensors=\"pt\")\n",
    "\n",
    "outputs = model.generate(**input_ids)\n",
    "print(tokenizer.decode(outputs[0]))"
   ]
  },
  {
   "cell_type": "code",
   "execution_count": 17,
   "id": "997a51cc",
   "metadata": {},
   "outputs": [],
   "source": [
    "import pandas as pd\n",
    "training = pd.read_csv(\"data/training.csv\")"
   ]
  },
  {
   "cell_type": "code",
   "execution_count": 18,
   "id": "2108b02f",
   "metadata": {},
   "outputs": [],
   "source": [
    "label_map = {\"negative\": 0, \"neutral\": 1, \"positive\": 2}\n",
    "training[\"num_label\"] = training[\"label\"].apply(lambda x: label_map[x])"
   ]
  },
  {
   "cell_type": "code",
   "execution_count": 20,
   "id": "37867fea",
   "metadata": {},
   "outputs": [
    {
     "name": "stdout",
     "output_type": "stream",
     "text": [
      "Sentence 0:\n",
      "Those 2 drinks are part of the HK culture and has years of history. It is so bad.\n",
      "negative\n",
      "<bos>Classify whether the following sentence has positve, negative or neutral sentiment. Answer with a single word: Those 2 drinks are part of the HK culture and has years of history. It is so bad.\n",
      "\n",
      "Answer:\n",
      "\n",
      "Step 1/2\n",
      "The sentence has a negative sentiment.\n",
      "\n",
      "Step \n",
      "Sentence 1:\n",
      "I was told by the repair company that was doing the car repair that fixing the rim was \"impossible\" and to replace it.\n",
      "negative\n",
      "<bos>Classify whether the following sentence has positve, negative or neutral sentiment. Answer with a single word: I was told by the repair company that was doing the car repair that fixing the rim was \"impossible\" and to replace it.\n",
      "\n",
      "Answer:\n",
      "\n",
      "Step 1/2\n",
      "The sentence is: \"I was told by the\n",
      "Sentence 2:\n",
      "It is there to give them a good time .\n",
      "neutral\n",
      "<bos>Classify whether the following sentence has positve, negative or neutral sentiment. Answer with a single word: It is there to give them a good time .\n",
      "\n",
      "Answer:\n",
      "\n",
      "Step 1/2\n",
      "The sentence is \"It is there to give them\n",
      "Sentence 3:\n",
      "Like leafing through an album of photos accompanied by the sketchiest of captions .\n",
      "negative\n",
      "<bos>Classify whether the following sentence has positve, negative or neutral sentiment. Answer with a single word: Like leafing through an album of photos accompanied by the sketchiest of captions . . . . . . . . . . . . . . . . . . . . .\n",
      "Sentence 4:\n",
      "Johnny was a talker and liked to have fun.\n",
      "positive\n",
      "<bos>Classify whether the following sentence has positve, negative or neutral sentiment. Answer with a single word: Johnny was a talker and liked to have fun.\n",
      "\n",
      "Answer:\n",
      "\n",
      "Step 1/2\n",
      "- Johnny was a talker: This sentence is\n"
     ]
    }
   ],
   "source": [
    "promt = \"Classify whether the following sentence has positve, negative or neutral sentiment. Answer with a single word: \"\n",
    "for i in range(5):\n",
    "    sentence = training.loc[i][\"sentence\"]\n",
    "    label = training.loc[i][\"label\"]\n",
    "    input = promt + sentence\n",
    "    input_ids = tokenizer(input, return_tensors=\"pt\")\n",
    "    outputs = model.generate(**input_ids)\n",
    "    print(f\"Sentence {i}:\")\n",
    "    print(sentence)\n",
    "    print(label)\n",
    "    print(tokenizer.decode(outputs[0]))"
   ]
  },
  {
   "cell_type": "code",
   "execution_count": null,
   "id": "c7c76fd1",
   "metadata": {},
   "outputs": [],
   "source": []
  }
 ],
 "metadata": {
  "kernelspec": {
   "display_name": "cil",
   "language": "python",
   "name": "python3"
  },
  "language_info": {
   "codemirror_mode": {
    "name": "ipython",
    "version": 3
   },
   "file_extension": ".py",
   "mimetype": "text/x-python",
   "name": "python",
   "nbconvert_exporter": "python",
   "pygments_lexer": "ipython3",
   "version": "3.13.2"
  }
 },
 "nbformat": 4,
 "nbformat_minor": 5
}
